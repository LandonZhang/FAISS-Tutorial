{
 "cells": [
  {
   "metadata": {},
   "cell_type": "markdown",
   "source": [
    "## Product Quantizer算法\n",
    "\n",
    "使用PQ量化的第一步就是需要训练好聚类模型并获得码本，使得具有对新输入数据进行编码的能力\n",
    "\n",
    "**位数表示法：** 如果选择使用8位二进制数表示，那么对应的十进制数是2<sup>8</sup>=256"
   ],
   "id": "9737b0eb455c40c6"
  },
  {
   "cell_type": "code",
   "id": "initial_id",
   "metadata": {
    "collapsed": true,
    "ExecuteTime": {
     "end_time": "2025-01-25T07:34:48.813564Z",
     "start_time": "2025-01-25T07:34:48.039659Z"
    }
   },
   "source": [
    "import faiss\n",
    "import numpy as np\n",
    "from numpy.testing.print_coercion_tables import print_new_cast_table\n",
    "\n",
    "# 创建数据\n",
    "dim = 32\n",
    "data = np.random.rand(10000, dim).astype('float32')\n",
    "\n",
    "# 训练码本（向量维度，子向量数量，子向量质心数(位数)）\n",
    "# 质心数将使用输入位数组成的最大二进制数进行表示，比如:8->11111111(二进制)->255(十进制)\n",
    "pq = faiss.ProductQuantizer(dim, 8, 8)\n",
    "pq.train(data)  # 由于内部也存在聚类算法与码本，故需要进行训练创建\n"
   ],
   "outputs": [],
   "execution_count": 6
  },
  {
   "metadata": {},
   "cell_type": "markdown",
   "source": [
    "### 编码数据\n",
    "\n",
    "在获得码本之后，我们对于新输入的数据就可以执行子向量分类与按照码本进行编码"
   ],
   "id": "3464f767b6eedccd"
  },
  {
   "metadata": {
    "ExecuteTime": {
     "end_time": "2025-01-25T07:34:50.926869Z",
     "start_time": "2025-01-25T07:34:50.912364Z"
    }
   },
   "cell_type": "code",
   "source": [
    "origin_data = np.random.rand(1, dim)\n",
    "coded_data = pq.compute_codes(origin_data)\n",
    "print(f\"原始数据为:{origin_data}\")\n",
    "print(f\"编码后的数据为:{coded_data}\")\n",
    "print(f\"编码后数据的形状是:{coded_data.shape}\")"
   ],
   "id": "3ca2b59da4b7362e",
   "outputs": [
    {
     "name": "stdout",
     "output_type": "stream",
     "text": [
      "原始数据为:[[0.99294721 0.14272079 0.53898738 0.01825288 0.92797153 0.02983403\n",
      "  0.8182503  0.20260697 0.06123151 0.26266258 0.24201474 0.76200225\n",
      "  0.27224378 0.46651195 0.7787937  0.45588632 0.72188776 0.21171221\n",
      "  0.85208513 0.18232851 0.9064073  0.07140375 0.00366112 0.52985508\n",
      "  0.57079784 0.11919303 0.80378421 0.56111623 0.42250082 0.51048513\n",
      "  0.80761346 0.08234399]]\n",
      "编码后的数据为:[[158  55  45  72 110  12 180 213]]\n",
      "编码后数据的形状是:(1, 8)\n"
     ]
    }
   ],
   "execution_count": 7
  },
  {
   "metadata": {},
   "cell_type": "markdown",
   "source": "我们可以发现，在PQ编码之后，数据从32维度下降到了8，压缩程度达到了4倍！",
   "id": "61a64f33714ba84d"
  },
  {
   "metadata": {},
   "cell_type": "markdown",
   "source": [
    "### 解码数据\n",
    "\n",
    "当获得了编码后的数据之后，我们自然也可以按照码本对数据进行解码，获得原来维度的数据<br/>\n",
    "但由于我们是按照子向量区域内的聚合中心进行解码的，所以会产生误差"
   ],
   "id": "fc31260b0ed968bd"
  },
  {
   "metadata": {
    "ExecuteTime": {
     "end_time": "2025-01-25T08:36:06.012624Z",
     "start_time": "2025-01-25T08:36:06.001931Z"
    }
   },
   "cell_type": "code",
   "source": [
    "decoded_data = pq.decode(coded_data)\n",
    "print(f\"解码后的数据为:{decoded_data}\")\n",
    "diff = decoded_data - origin_data\n",
    "num = origin_data.shape[0] * origin_data.shape[1]\n",
    "print(f\"均方误差为:{np.sum(pow(diff, 2)) / num}\")"
   ],
   "id": "a0947c6a6ec4a451",
   "outputs": [
    {
     "name": "stdout",
     "output_type": "stream",
     "text": [
      "解码后的数据为:[[0.88122296 0.07628218 0.5539083  0.12453993 0.91809887 0.12915483\n",
      "  0.742432   0.1521527  0.11769522 0.29498875 0.24967924 0.8984066\n",
      "  0.37344372 0.49124646 0.62598866 0.4441901  0.65576273 0.09641423\n",
      "  0.9086838  0.30697593 0.9042923  0.12815714 0.12485918 0.3911063\n",
      "  0.5089358  0.14131011 0.65261054 0.6108575  0.43215296 0.654124\n",
      "  0.8632609  0.11567549]]\n",
      "均方误差为:0.007251823452862301\n"
     ]
    }
   ],
   "execution_count": 15
  },
  {
   "metadata": {},
   "cell_type": "markdown",
   "source": [
    "## 重要参数:pq.verbose=True\n",
    "在FAISS中，verbose 是一个用于控制输出调试信息的参数，主要用于查看算法的内部运行状态，便于开发者调试和优化模型。\n"
   ],
   "id": "faee4f85e2a2229e"
  }
 ],
 "metadata": {
  "kernelspec": {
   "display_name": "Python 3",
   "language": "python",
   "name": "python3"
  },
  "language_info": {
   "codemirror_mode": {
    "name": "ipython",
    "version": 2
   },
   "file_extension": ".py",
   "mimetype": "text/x-python",
   "name": "python",
   "nbconvert_exporter": "python",
   "pygments_lexer": "ipython2",
   "version": "2.7.6"
  }
 },
 "nbformat": 4,
 "nbformat_minor": 5
}
