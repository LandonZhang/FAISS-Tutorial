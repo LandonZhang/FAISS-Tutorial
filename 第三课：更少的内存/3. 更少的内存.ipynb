{
 "cells": [
  {
   "metadata": {},
   "cell_type": "markdown",
   "source": [
    "# 更少的内存\n",
    "\n",
    "---\n",
    "\n",
    "注：本课的理解需要其他知识作为补充，请查看文件：PQ算法.md; <br/>"
   ],
   "id": "7b3db028401a272e"
  },
  {
   "cell_type": "code",
   "id": "initial_id",
   "metadata": {
    "collapsed": true,
    "ExecuteTime": {
     "end_time": "2025-01-25T10:13:33.951998Z",
     "start_time": "2025-01-25T10:13:33.785593Z"
    }
   },
   "source": [
    "from operator import index\n",
    "\n",
    "import faiss\n",
    "import numpy as np\n",
    "import time\n",
    "\n",
    "# 固定随机种子\n",
    "np.random.seed(42)\n",
    "\n",
    "# 创建全局数据与查询向量\n",
    "dim = 256\n",
    "data = np.random.rand(100000, dim)\n",
    "query = np.random.rand(2, dim)"
   ],
   "outputs": [],
   "execution_count": 35
  },
  {
   "metadata": {
    "ExecuteTime": {
     "end_time": "2025-01-25T10:13:33.970036Z",
     "start_time": "2025-01-25T10:13:33.960509Z"
    }
   },
   "cell_type": "code",
   "source": [
    "# 构造装饰器计算程序运行时间\n",
    "\n",
    "def time_calculator(test_function):\n",
    "\n",
    "    # 定义包装函数\n",
    "    def wrapper():\n",
    "        print('*' * 13)\n",
    "        print(\"程序运行开始！\")\n",
    "        start_time = time.time()\n",
    "        test_function()\n",
    "        print(f\"程序运行时间是:{time.time() - start_time}\")\n",
    "        print('*' * 13, end='\\n' * 2)\n",
    "\n",
    "    return wrapper\n"
   ],
   "id": "9aa6f27e5017d831",
   "outputs": [],
   "execution_count": 36
  },
  {
   "metadata": {
    "ExecuteTime": {
     "end_time": "2025-01-25T10:13:34.005430Z",
     "start_time": "2025-01-25T10:13:33.989497Z"
    }
   },
   "cell_type": "code",
   "source": [
    "# 使用最普通的暴力搜索方法\n",
    "@time_calculator\n",
    "def test01():\n",
    "    index = faiss.IndexFlatL2(dim)\n",
    "    index.add(data)\n",
    "    start_time_test = time.time()\n",
    "    D, I = index.search(query, k=2)\n",
    "    print(f\"查询所需时间为:{time.time()-start_time_test:.4f}s\")\n",
    "    print(f\"最短距离为：{D}\")\n",
    "    print(f\"最短距离索引为：{I}\")\n",
    "    faiss.write_index(index, \"IndexFlatL2.faiss\")\n",
    "\n",
    "\n",
    "# 使用常规的IndexIVFFlat进行存储，并查看内存使用\n",
    "@time_calculator\n",
    "def test02():\n",
    "    quantizer = faiss.IndexFlatL2(dim)\n",
    "    index = faiss.IndexIVFFlat(quantizer, dim, 500)  # 量化器、维度、聚类中心\n",
    "    assert not index.is_trained\n",
    "    index.train(data)\n",
    "    assert index.is_trained\n",
    "    index.add(data)\n",
    "    start_time_test = time.time()\n",
    "    index.nprobe = 1\n",
    "    D, I = index.search(query, k=2)\n",
    "    print(f\"查询所需时间为:{time.time()-start_time_test:.4f}s\")\n",
    "    print(f\"最短距离为：{D}\")\n",
    "    print(f\"最短距离索引为：{I}\")\n",
    "    faiss.write_index(index, \"IndexIVFFlat.faiss\")\n",
    "\n",
    "\n",
    "# 使用IndexIVFPQ进行存储，并查看内存使用\n",
    "'''参数1：量化器\n",
    "参数2：维度\n",
    "参数3：聚类中心的个数\n",
    "参数4：划分子向量空间的个数\n",
    "参数5：子向量空间内的聚类中心(位)'''\n",
    "@time_calculator\n",
    "def test03():\n",
    "    quantizer = faiss.IndexFlatL2(dim)\n",
    "    index = faiss.IndexIVFPQ(quantizer, dim, 500, 8, 8) # 2^8 = 256\n",
    "    assert not index.is_trained\n",
    "    index.train(data)\n",
    "    assert index.is_trained\n",
    "    index.add(data)\n",
    "    start_time_test = time.time()\n",
    "    index.nprobe = 1\n",
    "    D, I = index.search(query, k=2)\n",
    "    print(f\"查询所需时间为:{time.time()-start_time_test:.4f}s\")\n",
    "    print(f\"最短距离为：{D}\")\n",
    "    print(f\"最短距离索引为：{I}\")\n",
    "    faiss.write_index(index, \"IndexIVFIP.faiss\")"
   ],
   "id": "9254de97ae0ff7b9",
   "outputs": [],
   "execution_count": 37
  },
  {
   "metadata": {
    "ExecuteTime": {
     "end_time": "2025-01-25T11:53:18.036183Z",
     "start_time": "2025-01-25T11:53:10.835246Z"
    }
   },
   "cell_type": "code",
   "source": [
    "# 执行程序\n",
    "if __name__ == \"__main__\":\n",
    "    total_start_time = time.time()\n",
    "    print(\"IndexFlatL2:\")\n",
    "    test01()\n",
    "    print(\"IndexIVFFlat:\")\n",
    "    test02()\n",
    "    print(\"IndexIVFPQ:\", end='\\n' * 2)\n",
    "    test03()\n",
    "    print(f\"程序总运行时间是:{time.time() - total_start_time}\")"
   ],
   "id": "db770000bb59726f",
   "outputs": [
    {
     "name": "stdout",
     "output_type": "stream",
     "text": [
      "IndexFlatL2:\n",
      "*************\n",
      "程序运行开始！\n",
      "查询所需时间为:0.0074s\n",
      "最短距离为：[[30.664503 30.716288]\n",
      " [31.105942 31.285503]]\n",
      "最短距离索引为：[[25371 25699]\n",
      " [61674 73419]]\n",
      "程序运行时间是:0.2448439598083496\n",
      "*************\n",
      "\n",
      "IndexIVFFlat:\n",
      "*************\n",
      "程序运行开始！\n",
      "查询所需时间为:0.0000s\n",
      "最短距离为：[[31.998238 32.928993]\n",
      " [32.32107  34.518463]]\n",
      "最短距离索引为：[[13923   418]\n",
      " [ 3146  9136]]\n",
      "程序运行时间是:1.3011128902435303\n",
      "*************\n",
      "\n",
      "IndexIVFPQ:\n",
      "\n",
      "*************\n",
      "程序运行开始！\n",
      "查询所需时间为:0.0000s\n",
      "最短距离为：[[21.978174 22.520166]\n",
      " [22.428432 23.09396 ]]\n",
      "最短距离索引为：[[39077 11784]\n",
      " [29962 58354]]\n",
      "程序运行时间是:5.635815382003784\n",
      "*************\n",
      "\n",
      "程序总运行时间是:7.181772232055664\n"
     ]
    }
   ],
   "execution_count": 39
  },
  {
   "metadata": {},
   "cell_type": "markdown",
   "source": [
    "<img src=\"./Code_Result.png\" width=\"460\">\n",
    "\n",
    "我们可以发现，暴力搜索搜索时间仍然是最久的，但是结果最优秀的。在IndexIVFPQ搜索中看似出现了**更小的距离**，但实际上是因为编码和解码的**误差**导致的，并不是**真实距离**"
   ],
   "id": "709bd16bbdc898d4"
  },
  {
   "metadata": {},
   "cell_type": "markdown",
   "source": [
    "### 评价内存消耗情况\n",
    "既然是**更少的内存**，那么实际上内存的消耗情况是怎么样的呢？\n",
    "\n",
    "<img src=\"./memory.png\" width=\"706\">\n",
    "\n",
    "从图中的储存占用可以看到，IndexIVFFlat方法占用的储存最多（原始数据加上倒排表结构），IndexIVFPQ方法占用的储存最小"
   ],
   "id": "df9acdab4aa8a357"
  }
 ],
 "metadata": {
  "kernelspec": {
   "display_name": "Python 3",
   "language": "python",
   "name": "python3"
  },
  "language_info": {
   "codemirror_mode": {
    "name": "ipython",
    "version": 2
   },
   "file_extension": ".py",
   "mimetype": "text/x-python",
   "name": "python",
   "nbconvert_exporter": "python",
   "pygments_lexer": "ipython2",
   "version": "2.7.6"
  }
 },
 "nbformat": 4,
 "nbformat_minor": 5
}
