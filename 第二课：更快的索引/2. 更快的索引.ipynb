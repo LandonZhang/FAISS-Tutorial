{
 "cells": [
  {
   "metadata": {},
   "cell_type": "markdown",
   "source": [
    "# 更快的索引\n",
    "\n",
    "---\n",
    "\n",
    "注：本课的理解需要其他知识作为补充，请查看文件：聚类算法、倒排表、数据查询.md; <br/>完整实现流程在文件：2. 更快的索引.py中"
   ],
   "id": "578307f37aa4705a"
  },
  {
   "cell_type": "code",
   "id": "initial_id",
   "metadata": {
    "collapsed": true,
    "ExecuteTime": {
     "end_time": "2025-01-23T05:31:30.567096Z",
     "start_time": "2025-01-23T05:31:30.563527Z"
    }
   },
   "source": [
    "# 先测试一下使用暴力索引的方式，使用的时间\n",
    "import numpy as np\n",
    "import faiss\n",
    "import time"
   ],
   "outputs": [],
   "execution_count": 60
  },
  {
   "metadata": {
    "ExecuteTime": {
     "end_time": "2025-01-23T05:31:30.792911Z",
     "start_time": "2025-01-23T05:31:30.574778Z"
    }
   },
   "cell_type": "code",
   "source": [
    "# 创建原始数据\n",
    "data = np.random.rand(100_000, 256)\n",
    "dim = 256\n",
    "index = faiss.IndexFlatL2(dim)\n",
    "index.add(data)"
   ],
   "id": "3ee56e649dbf9bef",
   "outputs": [],
   "execution_count": 61
  },
  {
   "metadata": {
    "ExecuteTime": {
     "end_time": "2025-01-23T05:31:30.827266Z",
     "start_time": "2025-01-23T05:31:30.813525Z"
    }
   },
   "cell_type": "code",
   "source": [
    "# 创建查询并计算时间\n",
    "query = np.random.rand(2, 256)\n",
    "\n",
    "start_time = time.time()\n",
    "D, I = index.search(query, k=2)\n",
    "print(f\"程序运行的时间是:{(time.time()-start_time):.4f}s\")\n",
    "print(D)\n",
    "print(I)"
   ],
   "id": "da303d77faa8f6a5",
   "outputs": [
    {
     "name": "stdout",
     "output_type": "stream",
     "text": [
      "程序运行的时间是:0.0062s\n",
      "[[31.442684 32.060856]\n",
      " [30.78328  30.99403 ]]\n",
      "[[18267 67958]\n",
      " [72973 40792]]\n"
     ]
    }
   ],
   "execution_count": 62
  },
  {
   "metadata": {},
   "cell_type": "markdown",
   "source": [
    "IndexIVFFlat函数所需参数（其中Flat指的是数据是使用未经压缩的形式存储的）：<br/>\n",
    "1. 量化器(quantizer)：在聚类模型训练与数据查询时，选择怎样的相似度计算方式\n",
    "2. 向量维度(d)：传入向量的维度\n",
    "3. 聚类中心数量(nlist)：在聚类算法训练的时候需要找到几个聚类中心\n",
    "\n",
    "---\n",
    "\n",
    "除此之外，index还允许设置`index.nprobe=<数量>`来规定数据查询时，选择在几个最相似的簇中执行查询"
   ],
   "id": "19a433c2d4b43150"
  },
  {
   "metadata": {
    "ExecuteTime": {
     "end_time": "2025-01-23T05:31:32.293070Z",
     "start_time": "2025-01-23T05:31:30.845239Z"
    }
   },
   "cell_type": "code",
   "source": [
    "# 使用IndexIDFFlat的方式创建索引并查询\n",
    "quantizer = faiss.IndexFlatL2(dim)\n",
    "index = faiss.IndexIVFFlat(quantizer, dim, 1000)\n",
    "assert not index.is_trained  # 由于存在聚类模型，所以需要进行训练\n",
    "index.train(data)  # 传入数据，找到规定数量的聚类中心\n",
    "assert index.is_trained"
   ],
   "id": "60ac0950e46a7551",
   "outputs": [],
   "execution_count": 63
  },
  {
   "metadata": {
    "ExecuteTime": {
     "end_time": "2025-01-23T05:31:32.515706Z",
     "start_time": "2025-01-23T05:31:32.308694Z"
    }
   },
   "cell_type": "code",
   "source": [
    "# 创建新向量数据库\n",
    "index.add(data)"
   ],
   "id": "f66a0f30848bc00e",
   "outputs": [],
   "execution_count": 64
  },
  {
   "metadata": {
    "ExecuteTime": {
     "end_time": "2025-01-23T05:31:36.387059Z",
     "start_time": "2025-01-23T05:31:36.365992Z"
    }
   },
   "cell_type": "code",
   "source": [
    "# 执行查询，假设先在最近的一个簇中寻找数据，看看与暴力搜索的区别\n",
    "index.nprobe = 1\n",
    "start_time = time.time()\n",
    "D, I = index.search(query, k=2)\n",
    "print(f\"程序运行的时间是:{(time.time()-start_time):.4f}s\")\n",
    "print(D)\n",
    "print(I)"
   ],
   "id": "77c66687e988782d",
   "outputs": [
    {
     "name": "stdout",
     "output_type": "stream",
     "text": [
      "程序运行的时间是:0.0030s\n",
      "[[31.442684 33.830658]\n",
      " [31.486443 31.658401]]\n",
      "[[18267 73753]\n",
      " [87905  1463]]\n"
     ]
    }
   ],
   "execution_count": 65
  },
  {
   "metadata": {},
   "cell_type": "markdown",
   "source": [
    "我们不妨来对比一下，暴力搜索和IndexIVFFlat的结果差异:<br/>\n",
    "**暴力搜索：** <br/>\n",
    "程序运行的时间是:0.0062s <br/>\n",
    "[31.442684 32.060856]<br/>\n",
    "[30.78328  30.99403 ]<br/>\n",
    "[18267 67958]<br/>\n",
    "[72973 40792]<br/>\n",
    "\n",
    " **聚类倒排表搜索：**<br/>\n",
    "程序运行的时间是:0.0030s<br/>\n",
    "[31.442684 33.830658]<br/>\n",
    "[31.486443 31.658401]<br/>\n",
    "[18267 73753]<br/>\n",
    "[87905  1463]<br/>\n",
    "\n",
    "---\n",
    "\n",
    "我们不难发现：效率确实提高了，但是精度降低了，暴力搜索得到的第二个最近距离为：32.060856小于新方法得到的：33.8360658<br/>\n",
    "这就是因为\"分簇搜索\"，导致最优的结果可能被忽略了而没有找到，在实际运用中，需要通过交叉验证的方式平衡参数：nlist与nprobe，达到效率和精度的平衡\n"
   ],
   "id": "7b473011d93cf4f"
  }
 ],
 "metadata": {
  "kernelspec": {
   "display_name": "Python 3",
   "language": "python",
   "name": "python3"
  },
  "language_info": {
   "codemirror_mode": {
    "name": "ipython",
    "version": 2
   },
   "file_extension": ".py",
   "mimetype": "text/x-python",
   "name": "python",
   "nbconvert_exporter": "python",
   "pygments_lexer": "ipython2",
   "version": "2.7.6"
  }
 },
 "nbformat": 4,
 "nbformat_minor": 5
}
