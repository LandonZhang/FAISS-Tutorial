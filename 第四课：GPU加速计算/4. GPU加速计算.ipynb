{
 "cells": [
  {
   "metadata": {},
   "cell_type": "markdown",
   "source": [
    "# GPU加速计算\n",
    "\n",
    "---\n",
    "\n",
    "在Faiss中，由于存在大量简单但计算密集型的计算，因此GPU加速计算是非常有必要的。Faiss提供了多种GPU加速计算的方式：\n",
    "1. 使用单GPU实现的GPU加速计算\n",
    "2. 使用多GPU加速计算\n",
    "\n",
    "---\n",
    "\n",
    "在GPU上完成计算之后，我们可以需要将构建成功的索引传输回CPU，并最终通过`write_index`方法将索引保存到磁盘上。*GPU不允许直接将索引保存到磁盘上*。"
   ],
   "id": "ab18f31fb006ee4a"
  },
  {
   "metadata": {},
   "cell_type": "markdown",
   "source": [
    "### 第一种方式：使用单张GPU运算(`index_cpu_to_gpu`)\n",
    "**所需参数：**\n",
    "1. GPU实例资源\n",
    "2. GPU编号（如果电脑上安装了多张GPU的话）\n",
    "3. 需要转移运算的Index"
   ],
   "id": "a3372c3067d18456"
  },
  {
   "metadata": {
    "ExecuteTime": {
     "end_time": "2025-01-25T13:41:38.174763Z",
     "start_time": "2025-01-25T13:41:38.167310Z"
    }
   },
   "cell_type": "code",
   "source": [
    "# 检查电脑中的GPU配置\n",
    "import faiss\n",
    "import numpy as np\n",
    "import time\n",
    "\n",
    "# 获取可用 GPU 的数量\n",
    "num_gpus = faiss.get_num_gpus()\n",
    "print(f\"GPU的数量是:{num_gpus}\")"
   ],
   "id": "77590f55944ac031",
   "outputs": [
    {
     "name": "stdout",
     "output_type": "stream",
     "text": [
      "GPU的数量是:1\n"
     ]
    }
   ],
   "execution_count": 15
  },
  {
   "metadata": {},
   "cell_type": "markdown",
   "source": "GPU的编号是按顺序进行标号的：0、1、2、3...",
   "id": "f1bd57c4cf42137b"
  },
  {
   "metadata": {
    "ExecuteTime": {
     "end_time": "2025-01-25T13:41:38.673723Z",
     "start_time": "2025-01-25T13:41:38.218923Z"
    }
   },
   "cell_type": "code",
   "source": [
    "# 固定随机种子\n",
    "np.random.seed(42)\n",
    "\n",
    "# 创建全局数据与查询向量\n",
    "dim = 256\n",
    "data = np.random.rand(100000, dim)\n",
    "query = np.random.rand(2, dim)\n",
    "\n",
    "# 验证索引是否被转移到 GPU 上\n",
    "index_cpu = faiss.IndexFlatL2(dim)\n",
    "print(f\"未进行转移的Index:{index_cpu}\")\n",
    "\n",
    "# 获得 GPU 运算资源\n",
    "src = faiss.StandardGpuResources()\n",
    "\n",
    "# 将索引转移至 GPU 上，返回一个Index对象\n",
    "index_gpu = faiss.index_cpu_to_gpu(src, 0, index_cpu)  # GPU 实例资源，设备编号，需要转移的索引\n",
    "print(f\"已进行转移的Index:{index_gpu}\")\n"
   ],
   "id": "d36dc0663ca3ea9f",
   "outputs": [
    {
     "name": "stdout",
     "output_type": "stream",
     "text": [
      "未进行转移的Index:<faiss.swigfaiss.IndexFlatL2; proxy of <Swig Object of type 'faiss::IndexFlatL2 *' at 0x000001C9E6C22270> >\n",
      "已进行转移的Index:<faiss.swigfaiss.GpuIndexFlat; proxy of <Swig Object of type 'faiss::gpu::GpuIndexFlat *' at 0x000001C9E6C22420> >\n"
     ]
    }
   ],
   "execution_count": 16
  },
  {
   "metadata": {},
   "cell_type": "markdown",
   "source": "可以发现index_gpu返回的对象已经包含了gpu，说明转移成功！",
   "id": "f7acdcfbb39e72e6"
  },
  {
   "metadata": {
    "ExecuteTime": {
     "end_time": "2025-01-25T13:41:38.701656Z",
     "start_time": "2025-01-25T13:41:38.689645Z"
    }
   },
   "cell_type": "code",
   "source": [
    "# 使用上一章学的IndexIVFPQ来检测GPU的运算效率\n",
    "\n",
    "def test():\n",
    "    # 初始化CPU类index\n",
    "    quantizer = faiss.IndexFlatL2(dim)\n",
    "    index_cpu = faiss.IndexIVFPQ(quantizer, dim, 500, 8, 8) # 2^8 = 256\n",
    "\n",
    "    # 转化至GPU类index\n",
    "    src = faiss.StandardGpuResources()\n",
    "    index_gpu = faiss.index_cpu_to_gpu(src, 0, index_cpu)\n",
    "\n",
    "    # 创建完整索引并添加数据\n",
    "    index_gpu.train(data)\n",
    "    assert index_gpu.is_trained\n",
    "    index_gpu.add(data)\n",
    "    start_time_test = time.time()\n",
    "    index_gpu.nprobe = 1\n",
    "    D, I = index_gpu.search(query, k=2)\n",
    "\n",
    "    # 返回结果\n",
    "    print(f\"查询所需时间为:{time.time()-start_time_test:.4f}s\")\n",
    "    print(f\"最短距离为：{D}\")\n",
    "    print(f\"最短距离索引为：{I}\", end='\\n' + '*' * 9 + '\\n')\n",
    "\n",
    "    # 将index转化为 CPU 用于存储到本地，否则会报错\n",
    "    index_cpu = faiss.index_gpu_to_cpu(index_gpu)\n",
    "    faiss.write_index(index_cpu, \"GPU_to_CPU.faiss\")"
   ],
   "id": "f69ccf73df98c582",
   "outputs": [],
   "execution_count": 17
  },
  {
   "metadata": {
    "ExecuteTime": {
     "end_time": "2025-01-25T13:41:41.140130Z",
     "start_time": "2025-01-25T13:41:39.784800Z"
    }
   },
   "cell_type": "code",
   "source": [
    "# 允许主程序\n",
    "if __name__ == \"__main__\":\n",
    "    total_start_time = time.time()\n",
    "    test()\n",
    "    print(f\"程序总运行时间是:{time.time() - total_start_time}\")"
   ],
   "id": "eaab1c2b95ab8b81",
   "outputs": [
    {
     "name": "stdout",
     "output_type": "stream",
     "text": [
      "查询所需时间为:0.0010s\n",
      "最短距离为：[[21.64148  22.322227]\n",
      " [24.571217 24.57715 ]]\n",
      "最短距离索引为：[[ 4344  7131]\n",
      " [84326 24785]]\n",
      "*********\n",
      "程序总运行时间是:1.3415923118591309\n"
     ]
    }
   ],
   "execution_count": 18
  },
  {
   "metadata": {},
   "cell_type": "markdown",
   "source": [
    "### 最后，让我们比较一下使用了GPU加速和没使用GPU加速在相同数据下的效率差异☺️\n",
    "\n",
    "**未使用GPU加速时的程序用时：**<br/>\n",
    "\n",
    "---\n",
    "\n",
    "<img src=\"./GPU_simple.png\" width=\"307\">\n",
    "\n",
    "**使用GPU加速时的程序用时：**<br/>\n",
    "\n",
    "---\n",
    "\n",
    "<img src=\"./GPU_accelerate.png\" width=\"270\">\n",
    "\n",
    "我们可以发现，程序运行时间大大减少了，GPU万岁"
   ],
   "id": "e70fccf0359275ea"
  }
 ],
 "metadata": {
  "kernelspec": {
   "display_name": "Python 3",
   "language": "python",
   "name": "python3"
  },
  "language_info": {
   "codemirror_mode": {
    "name": "ipython",
    "version": 2
   },
   "file_extension": ".py",
   "mimetype": "text/x-python",
   "name": "python",
   "nbconvert_exporter": "python",
   "pygments_lexer": "ipython2",
   "version": "2.7.6"
  }
 },
 "nbformat": 4,
 "nbformat_minor": 5
}
