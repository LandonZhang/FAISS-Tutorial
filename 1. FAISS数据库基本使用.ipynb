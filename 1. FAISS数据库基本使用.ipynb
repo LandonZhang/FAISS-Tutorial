{
 "cells": [
  {
   "metadata": {},
   "cell_type": "markdown",
   "source": [
    "# FAISS初学者教程\n",
    "---\n",
    "FAISS数据库的数据存储和检索都是采用基于\"Index\"的方式实现的，所以对于FAISS的任何操作，都需要先构建索引<br/>\n",
    "索引的作用有：\n",
    "- 控制数据写入方式\n",
    "- 控制相似度查找方式\n",
    "- 进行数据库的存储\n",
    "\n",
    "不同类型的索引在面对数据写入和数据相似度查找时, 运用的是不同的策略（但是写入和查找用的方法一定要相同）<br/>最简单的是方式是\"Flat\"线性写入和索引（也被称为“暴力索引”）, 作为初学者，先利用这一个方法实现FAISS的操作流程之后再根据拓展即可.[^1]\n",
    "<br/>[官方提供的其他索引方法](https://github.com/facebookresearch/faiss/wiki/Faiss-indexes)\n",
    "\n",
    "[^1]: 切记不要刚开始就想一口气将FAISS全部掌握"
   ],
   "id": "8ad82f16a8d784f6"
  },
  {
   "metadata": {},
   "cell_type": "markdown",
   "source": "### 创建索引",
   "id": "f4d369d7668edff7"
  },
  {
   "metadata": {
    "ExecuteTime": {
     "end_time": "2025-01-22T13:01:44.514524Z",
     "start_time": "2025-01-22T13:01:44.017375Z"
    }
   },
   "cell_type": "code",
   "source": [
    "import faiss\n",
    "import numpy as np\n",
    "from pandas.core.interchange.from_dataframe import primitive_column_to_ndarray\n",
    "\n",
    "data = np.random.rand(10000, 5)  # 创建一个10000行,256列的数据\n",
    "dim = 5  # 后期创建索引会反复用到维度，所以先保存\n",
    "index = faiss.IndexFlatL2(dim)  # 创建指定维度的索引,并使用欧式距离计算相似度"
   ],
   "id": "4464bbc0a6edbc52",
   "outputs": [],
   "execution_count": 33
  },
  {
   "metadata": {},
   "cell_type": "markdown",
   "source": "关于相似度的计算方法也有很多种，请自行查找文献进行拓展🙂",
   "id": "e202e7ed15ed5060"
  },
  {
   "metadata": {},
   "cell_type": "code",
   "outputs": [],
   "execution_count": null,
   "source": "index = faiss.IndexFlatIP(dim)  # 使用向量点积计算相似度",
   "id": "594250163f1f5662"
  },
  {
   "metadata": {},
   "cell_type": "markdown",
   "source": [
    "使用工厂函数自定义需要的*存取方式*与*相似度计算方法*<br/>\n",
    "参数要求：维度、存取方式、相似度计算方法"
   ],
   "id": "ebbf1dc473545766"
  },
  {
   "metadata": {},
   "cell_type": "code",
   "outputs": [],
   "execution_count": null,
   "source": [
    "index = faiss.index_factory(dim, \"Flat\", faiss.METRIC_L2)  # 第一个索引使用工厂函数创建\n",
    "index = faiss.index_factory(dim, \"Flat\", faiss.METRIC_INNER_PRODUCT)  # 第二个索引使用工厂函数创建"
   ],
   "id": "24755eda51244fff"
  },
  {
   "metadata": {},
   "cell_type": "markdown",
   "source": "本文之后的操作都采用第一种向量方式进行存储和读取",
   "id": "63ca7f13a4adbf52"
  },
  {
   "metadata": {
    "ExecuteTime": {
     "end_time": "2025-01-22T13:01:48.997468Z",
     "start_time": "2025-01-22T13:01:48.990267Z"
    }
   },
   "cell_type": "code",
   "source": [
    "# 添加向量\n",
    "index.add(data)"
   ],
   "id": "40b5d09df2c2a570",
   "outputs": [],
   "execution_count": 34
  },
  {
   "metadata": {},
   "cell_type": "markdown",
   "source": "### 数据搜索",
   "id": "1f1c4567387ad94e"
  },
  {
   "metadata": {
    "ExecuteTime": {
     "end_time": "2025-01-22T13:01:56.101463Z",
     "start_time": "2025-01-22T13:01:56.095271Z"
    }
   },
   "cell_type": "code",
   "source": [
    "# 搜索向量\n",
    "query_vectors = np.random.rand(5, 5)  # 生成一个含有5行256维的向量用于相似查询\n",
    "D, I = index.search(query_vectors, k=2)  # 我们可以设置k来指定返回前k个最相似的结果\n",
    "print(D, I, sep='\\n')"
   ],
   "id": "8712759b94d6a3d7",
   "outputs": [
    {
     "name": "stdout",
     "output_type": "stream",
     "text": [
      "[[0.01765398 0.0217119 ]\n",
      " [0.01314255 0.01387906]\n",
      " [0.00940344 0.0136312 ]\n",
      " [0.01189595 0.01790469]\n",
      " [0.01421544 0.0148391 ]]\n",
      "[[5488 9091]\n",
      " [4587 6679]\n",
      " [7374 9057]\n",
      " [5995 7848]\n",
      " [8263 4803]]\n"
     ]
    }
   ],
   "execution_count": 36
  },
  {
   "metadata": {
    "ExecuteTime": {
     "end_time": "2025-01-22T13:01:59.684139Z",
     "start_time": "2025-01-22T13:01:59.669976Z"
    }
   },
   "cell_type": "code",
   "source": [
    "# 根据索引获得相应数据\n",
    "relative_data = []\n",
    "for i in range(5):\n",
    "    single_data = [data[I[i][0]], data[I[i][1]]]\n",
    "    relative_data.append(single_data)\n",
    "\n",
    "print(np.shape(relative_data))\n"
   ],
   "id": "aeec5bb2e313f87a",
   "outputs": [
    {
     "name": "stdout",
     "output_type": "stream",
     "text": [
      "(5, 2, 5)\n"
     ]
    }
   ],
   "execution_count": 37
  },
  {
   "metadata": {
    "ExecuteTime": {
     "end_time": "2025-01-22T13:02:01.946625Z",
     "start_time": "2025-01-22T13:02:01.936771Z"
    }
   },
   "cell_type": "code",
   "source": [
    "# 依据缩影在原数据库中查找数据\n",
    "for i in range(5):\n",
    "    print(f\"第{i + 1}条数据查询匹配的结果是:\\n\")\n",
    "    for j in range(2):\n",
    "        print(f\"第{j + 1}/2条最相似结果:\", end=\"\")\n",
    "        print(relative_data[i][j])\n",
    "    print(\"-----------------\")"
   ],
   "id": "817c06f59843ae75",
   "outputs": [
    {
     "name": "stdout",
     "output_type": "stream",
     "text": [
      "第1条数据查询匹配的结果是:\n",
      "\n",
      "第1/2条最相似结果:[0.58590784 0.8022126  0.52393972 0.29686968 0.88874731]\n",
      "第2/2条最相似结果:[0.75284836 0.94124825 0.5098653  0.22167534 0.84286611]\n",
      "-----------------\n",
      "第2条数据查询匹配的结果是:\n",
      "\n",
      "第1/2条最相似结果:[0.78291297 0.58216694 0.75830712 0.79187478 0.55999713]\n",
      "第2/2条最相似结果:[0.65474185 0.52034147 0.66332795 0.83256785 0.70685435]\n",
      "-----------------\n",
      "第3条数据查询匹配的结果是:\n",
      "\n",
      "第1/2条最相似结果:[0.99209881 0.89072181 0.88768272 0.45159288 0.8838199 ]\n",
      "第2/2条最相似结果:[0.90359846 0.93549261 0.84739678 0.44447022 0.87946532]\n",
      "-----------------\n",
      "第4条数据查询匹配的结果是:\n",
      "\n",
      "第1/2条最相似结果:[0.60560881 0.43308964 0.99142218 0.87073686 0.43696408]\n",
      "第2/2条最相似结果:[0.66131919 0.60182707 0.99617461 0.98366362 0.43489338]\n",
      "-----------------\n",
      "第5条数据查询匹配的结果是:\n",
      "\n",
      "第1/2条最相似结果:[0.4647062  0.25105355 0.19566102 0.17824151 0.40105645]\n",
      "第2/2条最相似结果:[0.44028213 0.26147114 0.35241974 0.30095893 0.37640514]\n",
      "-----------------\n"
     ]
    }
   ],
   "execution_count": 38
  },
  {
   "metadata": {},
   "cell_type": "markdown",
   "source": [
    "### 数据删除\n",
    "如果我们希望从数据库中删除某条数据,我们是先从原data中找到数据的index, 再在向量数据库中按index进行删除;当数据存入向量数据库时, FAISS会自动对每一条数据生成一个匹配的索引（从0开始）"
   ],
   "id": "54a9d3cb4b5ae34f"
  },
  {
   "metadata": {
    "ExecuteTime": {
     "end_time": "2025-01-22T13:06:45.086585Z",
     "start_time": "2025-01-22T13:06:45.073816Z"
    }
   },
   "cell_type": "code",
   "source": [
    "# 删除指定ID的数据\n",
    "index.remove_ids(np.array([1, 2]))  # 删除两条索引\n",
    "print(index.ntotal)  # 查看总数,应为10000-2=9998"
   ],
   "id": "e1804b1e741f55ad",
   "outputs": [
    {
     "name": "stdout",
     "output_type": "stream",
     "text": [
      "9998\n"
     ]
    }
   ],
   "execution_count": 39
  },
  {
   "metadata": {},
   "cell_type": "code",
   "outputs": [],
   "execution_count": null,
   "source": [
    "# 如果希望删除全部的向量数据\n",
    "index.reset()\n",
    "print(index.ntotal)"
   ],
   "id": "c8384674bfd289cc"
  },
  {
   "metadata": {},
   "cell_type": "markdown",
   "source": [
    "### 保存数据库\n",
    "在FAISS中, 创建的index就可以等同于\"数据库\", 所以保存数据库, 就是保存index"
   ],
   "id": "7ef54eb42c876ad1"
  },
  {
   "metadata": {
    "ExecuteTime": {
     "end_time": "2025-01-22T13:11:39.062109Z",
     "start_time": "2025-01-22T13:11:39.052662Z"
    }
   },
   "cell_type": "code",
   "source": "faiss.write_index(index, 'My_first_FAISS.faiss')",
   "id": "73030eadb9c8b96",
   "outputs": [],
   "execution_count": 40
  },
  {
   "metadata": {},
   "cell_type": "markdown",
   "source": "### 加载数据库",
   "id": "778420cc0defc37d"
  },
  {
   "metadata": {
    "ExecuteTime": {
     "end_time": "2025-01-22T13:13:29.180645Z",
     "start_time": "2025-01-22T13:13:29.170646Z"
    }
   },
   "cell_type": "code",
   "source": [
    "index = faiss.read_index('My_first_FAISS.faiss')\n",
    "print(\"读取成功!\")"
   ],
   "id": "a3b47850b5074aa",
   "outputs": [
    {
     "name": "stdout",
     "output_type": "stream",
     "text": [
      "读取成功!\n"
     ]
    }
   ],
   "execution_count": 41
  },
  {
   "metadata": {},
   "cell_type": "markdown",
   "source": [
    "### 自定义数据库中的数据索引\n",
    "有时候我们希望索引从1开始, 或者为其他更有意义的数字时, 我们可以采用自定义索引的方式<br/>\n",
    "**注意:** 传入的自定义索引长度一定要与数据长度一致, 要么全都自定义索引, 要么全都自动生成\n"
   ],
   "id": "1eb0ba9f734809eb"
  },
  {
   "metadata": {
    "ExecuteTime": {
     "end_time": "2025-01-22T13:22:00.431874Z",
     "start_time": "2025-01-22T13:22:00.399223Z"
    }
   },
   "cell_type": "code",
   "source": [
    "index = faiss.IndexFlatIP(256)  # 创建一个256维的索引\n",
    "dim = 256\n",
    "# 使用IndexIDMap来包装这个索引, 使其支持自定义ID\n",
    "index = faiss.IndexIDMap(index)\n",
    "\"\"\"\n",
    "参数1: 像向量数据库中存入的向量\n",
    "参数2: 作为ID传入的numpy数组\n",
    "\"\"\"\n",
    "index.add_with_ids(np.random.rand(10000, 256), np.arange(1, 10001))\n",
    "print(index.ntotal)"
   ],
   "id": "f8c3348a494e58fd",
   "outputs": [
    {
     "name": "stdout",
     "output_type": "stream",
     "text": [
      "10000\n"
     ]
    }
   ],
   "execution_count": 44
  },
  {
   "metadata": {
    "ExecuteTime": {
     "end_time": "2025-01-22T13:23:16.061494Z",
     "start_time": "2025-01-22T13:23:16.048487Z"
    }
   },
   "cell_type": "code",
   "source": [
    "# 尝试删除ID=0的数据,预期结果是删不掉的\n",
    "index.remove_ids(np.array([0]))\n",
    "print(index.ntotal)"
   ],
   "id": "e7cc1684a225872a",
   "outputs": [
    {
     "name": "stdout",
     "output_type": "stream",
     "text": [
      "10000\n"
     ]
    }
   ],
   "execution_count": 47
  },
  {
   "metadata": {},
   "cell_type": "markdown",
   "source": "在以上设置ID的时候, 我们使用的是IndexFlatIP索引类型, 这种索引类型是不自带add_with_ids函数的, 所以我们需要先使用IndexIDMap包装一下, 再使用; 但有些索引是已经写好的, 多试试就知道了",
   "id": "54f962919718ad32"
  }
 ],
 "metadata": {
  "kernelspec": {
   "display_name": "Python 3",
   "language": "python",
   "name": "python3"
  },
  "language_info": {
   "codemirror_mode": {
    "name": "ipython",
    "version": 2
   },
   "file_extension": ".py",
   "mimetype": "text/x-python",
   "name": "python",
   "nbconvert_exporter": "python",
   "pygments_lexer": "ipython2",
   "version": "2.7.6"
  }
 },
 "nbformat": 4,
 "nbformat_minor": 5
}
